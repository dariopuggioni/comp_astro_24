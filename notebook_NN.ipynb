{
 "cells": [
  {
   "cell_type": "markdown",
   "metadata": {},
   "source": [
    "## Artificial Neural Networks\n",
    "\n",
    "### Import libraries "
   ]
  },
  {
   "cell_type": "code",
   "execution_count": 1,
   "metadata": {},
   "outputs": [
    {
     "name": "stderr",
     "output_type": "stream",
     "text": [
      "2024-11-21 13:24:59.878096: I external/local_xla/xla/tsl/cuda/cudart_stub.cc:32] Could not find cuda drivers on your machine, GPU will not be used.\n",
      "2024-11-21 13:25:00.195537: I external/local_xla/xla/tsl/cuda/cudart_stub.cc:32] Could not find cuda drivers on your machine, GPU will not be used.\n",
      "2024-11-21 13:25:00.490881: E external/local_xla/xla/stream_executor/cuda/cuda_fft.cc:477] Unable to register cuFFT factory: Attempting to register factory for plugin cuFFT when one has already been registered\n",
      "WARNING: All log messages before absl::InitializeLog() is called are written to STDERR\n",
      "E0000 00:00:1732191900.695310   22457 cuda_dnn.cc:8310] Unable to register cuDNN factory: Attempting to register factory for plugin cuDNN when one has already been registered\n",
      "E0000 00:00:1732191900.744654   22457 cuda_blas.cc:1418] Unable to register cuBLAS factory: Attempting to register factory for plugin cuBLAS when one has already been registered\n",
      "2024-11-21 13:25:01.264180: I tensorflow/core/platform/cpu_feature_guard.cc:210] This TensorFlow binary is optimized to use available CPU instructions in performance-critical operations.\n",
      "To enable the following instructions: AVX2 FMA, in other operations, rebuild TensorFlow with the appropriate compiler flags.\n"
     ]
    }
   ],
   "source": [
    "# import keras\n",
    "# from keras.models import Sequential\n",
    "# from keras.layers import Dense, Activation, Dropout\n",
    "# from keras.layers.normalization import BatchNormalization\n",
    "# from keras import metrics\n",
    "# from keras.callbacks import ModelCheckpoint\n",
    "\n",
    "import pandas as pd\n",
    "import numpy as np\n",
    "from scipy import ndimage, fft\n",
    "import matplotlib.pyplot as plt\n",
    "import math\n",
    "import time\n",
    "\n",
    "from imblearn.over_sampling import SMOTE\n",
    "\n",
    "from pathlib import Path\n",
    "\n",
    "from sklearn.utils import shuffle\n",
    "from sklearn.preprocessing import StandardScaler, MinMaxScaler, normalize\n",
    "from sklearn.metrics import (\n",
    "    accuracy_score,\n",
    "    precision_score,\n",
    "    recall_score,\n",
    "    confusion_matrix,\n",
    ")\n",
    "from sklearn.metrics import classification_report\n",
    "\n",
    "# from .preprocess_data import LightFluxProcessor\n",
    "import tensorflow as tf"
   ]
  },
  {
   "cell_type": "code",
   "execution_count": 2,
   "metadata": {},
   "outputs": [],
   "source": [
    "class LightFluxProcessor:\n",
    "\n",
    "    def __init__(self, fourier=True, normalize=True, gaussian=True, standardize=True):\n",
    "        self.fourier = fourier\n",
    "        self.normalize = normalize\n",
    "        self.gaussian = gaussian\n",
    "        self.standardize = standardize\n",
    "\n",
    "    # Computing the FFT on X and returning the amplitude of the frequencies in the signal \n",
    "    def fourier_transform(self, X):\n",
    "        return np.abs(fft.fft(X, n=X.size))\n",
    "\n",
    "    # Applying fourier transform\n",
    "    def process(self, df_train_x, df_dev_x):\n",
    "        if self.fourier:\n",
    "            print(\"Applying Fourier...\")\n",
    "            shape_train = df_train_x.shape\n",
    "            shape_dev = df_dev_x.shape\n",
    "            df_train_x = df_train_x.apply(self.fourier_transform, axis=1)\n",
    "            df_dev_x = df_dev_x.apply(self.fourier_transform, axis=1)\n",
    "\n",
    "            # builds new arrays to sore the transformed rows \n",
    "            df_train_x_build = np.zeros(shape_train)\n",
    "            df_dev_x_build = np.zeros(shape_dev)\n",
    "\n",
    "            for ii, x in enumerate(df_train_x): #?\n",
    "                df_train_x_build[ii] = x\n",
    "\n",
    "            for ii, x in enumerate(df_dev_x): #?\n",
    "                df_dev_x_build[ii] = x\n",
    "\n",
    "            df_train_x = pd.DataFrame(df_train_x_build)\n",
    "            df_dev_x = pd.DataFrame(df_dev_x_build)\n",
    "\n",
    "            # Keep first half of data as it is symmetrical after previous steps (FFT results are symmetric)\n",
    "            df_train_x = df_train_x.iloc[:, : (df_train_x.shape[1] // 2)].values\n",
    "            df_dev_x = df_dev_x.iloc[:, : (df_dev_x.shape[1] // 2)].values\n",
    "\n",
    "        # Normalizing to unit norm\n",
    "        if self.normalize:\n",
    "            print(\"Normalizing...\")\n",
    "            df_train_x = pd.DataFrame(normalize(df_train_x)) \n",
    "            df_dev_x = pd.DataFrame(normalize(df_dev_x))\n",
    "\n",
    "            # df_train_x = df_train_x.div(df_train_x.sum(axis=1), axis=0)\n",
    "            # df_dev_x = df_dev_x.div(df_dev_x.sum(axis=1), axis=0)\n",
    "\n",
    "        # Gaussian filter to smooth out data (to remove noise)\n",
    "        if self.gaussian:\n",
    "            print(\"Applying Gaussian Filter...\")\n",
    "            df_train_x = ndimage.filters.gaussian_filter(df_train_x, sigma=10)\n",
    "            df_dev_x = ndimage.filters.gaussian_filter(df_dev_x, sigma=10)\n",
    "\n",
    "        # Standardize X data\n",
    "        if self.standardize:\n",
    "            print(\"Standardizing...\")\n",
    "            std_scaler = StandardScaler()\n",
    "            df_train_x = std_scaler.fit_transform(df_train_x)\n",
    "            df_dev_x = std_scaler.transform(df_dev_x)\n",
    "\n",
    "        print(\"Finished Processing!\")\n",
    "        return df_train_x, df_dev_x"
   ]
  },
  {
   "cell_type": "markdown",
   "metadata": {},
   "source": [
    "### Build the model "
   ]
  },
  {
   "cell_type": "code",
   "execution_count": 3,
   "metadata": {},
   "outputs": [],
   "source": [
    "np.random.seed(1)\n",
    "\n",
    "def build_network(shape, n_layers, n_neurons):\n",
    "\n",
    "    model = tf.keras.models.Sequential(\n",
    "        [\n",
    "        tf.keras.layers.Input(shape), # input layer defined by 'shape' parameter  \n",
    "        tf.keras.layers.Flatten(), # covert into 1d array\n",
    "        ])\n",
    "    \n",
    "    for n in range(n_layers):\n",
    "        model.add(tf.keras.layers.Dense(n_neurons, activation=\"relu\"))  # Dense layer with 1 unit and ReLU\n",
    "        model.add(tf.keras.layers.Dropout(rate=0.25)) # Dropout layer to prevent overfitting \n",
    "    \n",
    "    model.add(tf.keras.layers.Dense(1, activation=\"sigmoid\")) # output layer with sigmoid\n",
    "\n",
    "    loss_fn = tf.keras.losses.BinaryCrossentropy(from_logits=True)\n",
    "    model.compile(optimizer=\"adam\", loss=loss_fn, metrics=[\"accuracy\"])\n",
    "    return model\n",
    "\n",
    "# output: X (numpy array of features) and Y (numpy array of lables - 1 or 2)\n",
    "def np_X_Y_from_df(df):\n",
    "    df = shuffle(df)\n",
    "    df_X = df.drop([\"LABEL\"], axis=1)\n",
    "    X = np.array(df_X)\n",
    "    Y_raw = np.array(df[\"LABEL\"]).reshape((len(df[\"LABEL\"]), 1))\n",
    "    Y = Y_raw == 2\n",
    "    return X, Y\n"
   ]
  },
  {
   "cell_type": "markdown",
   "metadata": {},
   "source": [
    "### Load and process the dataset"
   ]
  },
  {
   "cell_type": "code",
   "execution_count": 5,
   "metadata": {},
   "outputs": [],
   "source": [
    "def load_data(train_dataset_path, dev_dataset_path):\n",
    "    print(\"Loading datasets...\")\n",
    "    df_train = pd.read_csv(train_dataset_path, encoding=\"ISO-8859-1\")\n",
    "    df_dev = pd.read_csv(dev_dataset_path, encoding=\"ISO-8859-1\")\n",
    "\n",
    "    # Generate X and Y dataframe sets\n",
    "    df_train_x = df_train.drop(\"LABEL\", axis=1)\n",
    "    df_dev_x = df_dev.drop(\"LABEL\", axis=1)\n",
    "    df_train_y = df_train.LABEL\n",
    "    df_dev_y = df_dev.LABEL\n",
    "\n",
    "    # Process dataset with LPF\n",
    "    LFP = LightFluxProcessor(\n",
    "        fourier=True, normalize=True, gaussian=True, standardize=True\n",
    "    )\n",
    "    df_train_x, df_dev_x = LFP.process(df_train_x, df_dev_x)\n",
    "\n",
    "    # Rejoin X and Y to form dataframe \n",
    "    df_train_processed = pd.DataFrame(df_train_x).join(pd.DataFrame(df_train_y))\n",
    "    df_dev_processed = pd.DataFrame(df_dev_x).join(pd.DataFrame(df_dev_y))\n",
    "\n",
    "    # Load X and Y numpy arrays\n",
    "    X_train, Y_train = np_X_Y_from_df(df_train_processed)\n",
    "    X_dev, Y_dev = np_X_Y_from_df(df_dev_processed)\n",
    "\n",
    "    # Print data set stats\n",
    "    (num_examples, n_x) = (X_train.shape)  # (n_x: input size, m : number of examples in the train set)\n",
    "    n_y = Y_train.shape[1]  # n_y : output size\n",
    "    print(\"X_train.shape: \", X_train.shape)\n",
    "    print(\"Y_train.shape: \", Y_train.shape)\n",
    "    print(\"X_dev.shape: \", X_dev.shape)\n",
    "    print(\"Y_dev.shape: \", Y_dev.shape)\n",
    "    \n",
    "    return X_train, Y_train, X_dev, Y_dev"
   ]
  },
  {
   "cell_type": "markdown",
   "metadata": {},
   "source": [
    "### NN on no injection data"
   ]
  },
  {
   "cell_type": "code",
   "execution_count": 7,
   "metadata": {},
   "outputs": [],
   "source": [
    "path_to_data = '../data/kepler'\n",
    "train_dataset_path = f\"{path_to_data}/data_no_injection/exoTrain.csv\"\n",
    "dev_dataset_path = f\"{path_to_data}/data_no_injection/exoTest.csv\"\n",
    "\n",
    "LOAD_MODEL = True  # continue training previous weights or start fresh\n",
    "RENDER_PLOT = False  # render loss and accuracy plots"
   ]
  },
  {
   "cell_type": "markdown",
   "metadata": {},
   "source": [
    "Below we run the model with deafult parameters (one hidden layer and one neuron per layer)"
   ]
  },
  {
   "cell_type": "code",
   "execution_count": 8,
   "metadata": {},
   "outputs": [
    {
     "name": "stdout",
     "output_type": "stream",
     "text": [
      "Loading datasets...\n",
      "Applying Fourier...\n",
      "Normalizing...\n",
      "Applying Gaussian Filter...\n"
     ]
    },
    {
     "name": "stderr",
     "output_type": "stream",
     "text": [
      "/tmp/ipykernel_22457/4062776567.py:51: DeprecationWarning: Please import `gaussian_filter` from the `scipy.ndimage` namespace; the `scipy.ndimage.filters` namespace is deprecated and will be removed in SciPy 2.0.0.\n",
      "  df_train_x = ndimage.filters.gaussian_filter(df_train_x, sigma=10)\n",
      "/tmp/ipykernel_22457/4062776567.py:52: DeprecationWarning: Please import `gaussian_filter` from the `scipy.ndimage` namespace; the `scipy.ndimage.filters` namespace is deprecated and will be removed in SciPy 2.0.0.\n",
      "  df_dev_x = ndimage.filters.gaussian_filter(df_dev_x, sigma=10)\n"
     ]
    },
    {
     "name": "stdout",
     "output_type": "stream",
     "text": [
      "Standardizing...\n",
      "Finished Processing!\n",
      "X_train.shape:  (5087, 1598)\n",
      "Y_train.shape:  (5087, 1)\n",
      "X_dev.shape:  (570, 1598)\n",
      "Y_dev.shape:  (570, 1)\n"
     ]
    },
    {
     "name": "stderr",
     "output_type": "stream",
     "text": [
      "2024-11-21 13:26:37.519047: E external/local_xla/xla/stream_executor/cuda/cuda_driver.cc:152] failed call to cuInit: INTERNAL: CUDA error: Failed call to cuInit: UNKNOWN ERROR (303)\n"
     ]
    },
    {
     "name": "stdout",
     "output_type": "stream",
     "text": [
      "Training...\n",
      "Epoch 1/50\n"
     ]
    },
    {
     "name": "stderr",
     "output_type": "stream",
     "text": [
      "/home/gaia/third_semester/COMP-ASTRO/compastro/lib/python3.10/site-packages/keras/src/backend/tensorflow/nn.py:707: UserWarning: \"`binary_crossentropy` received `from_logits=True`, but the `output` argument was produced by a Sigmoid activation and thus does not represent logits. Was this intended?\n",
      "  output, from_logits = _get_logits(\n"
     ]
    },
    {
     "name": "stdout",
     "output_type": "stream",
     "text": [
      "\u001b[1m316/316\u001b[0m \u001b[32m━━━━━━━━━━━━━━━━━━━━\u001b[0m\u001b[37m\u001b[0m \u001b[1m2s\u001b[0m 4ms/step - accuracy: 0.7183 - loss: 0.5110\n",
      "Epoch 2/50\n",
      "\u001b[1m316/316\u001b[0m \u001b[32m━━━━━━━━━━━━━━━━━━━━\u001b[0m\u001b[37m\u001b[0m \u001b[1m1s\u001b[0m 3ms/step - accuracy: 0.8486 - loss: 0.3909\n",
      "Epoch 3/50\n",
      "\u001b[1m316/316\u001b[0m \u001b[32m━━━━━━━━━━━━━━━━━━━━\u001b[0m\u001b[37m\u001b[0m \u001b[1m1s\u001b[0m 3ms/step - accuracy: 0.8689 - loss: 0.3607\n",
      "Epoch 4/50\n",
      "\u001b[1m316/316\u001b[0m \u001b[32m━━━━━━━━━━━━━━━━━━━━\u001b[0m\u001b[37m\u001b[0m \u001b[1m1s\u001b[0m 3ms/step - accuracy: 0.8670 - loss: 0.3460\n",
      "Epoch 5/50\n",
      "\u001b[1m316/316\u001b[0m \u001b[32m━━━━━━━━━━━━━━━━━━━━\u001b[0m\u001b[37m\u001b[0m \u001b[1m1s\u001b[0m 2ms/step - accuracy: 0.8733 - loss: 0.3273\n",
      "Epoch 6/50\n",
      "\u001b[1m316/316\u001b[0m \u001b[32m━━━━━━━━━━━━━━━━━━━━\u001b[0m\u001b[37m\u001b[0m \u001b[1m1s\u001b[0m 2ms/step - accuracy: 0.8632 - loss: 0.3377\n",
      "Epoch 7/50\n",
      "\u001b[1m316/316\u001b[0m \u001b[32m━━━━━━━━━━━━━━━━━━━━\u001b[0m\u001b[37m\u001b[0m \u001b[1m1s\u001b[0m 2ms/step - accuracy: 0.8713 - loss: 0.3234\n",
      "Epoch 8/50\n",
      "\u001b[1m316/316\u001b[0m \u001b[32m━━━━━━━━━━━━━━━━━━━━\u001b[0m\u001b[37m\u001b[0m \u001b[1m1s\u001b[0m 2ms/step - accuracy: 0.8762 - loss: 0.3134\n",
      "Epoch 9/50\n",
      "\u001b[1m316/316\u001b[0m \u001b[32m━━━━━━━━━━━━━━━━━━━━\u001b[0m\u001b[37m\u001b[0m \u001b[1m1s\u001b[0m 4ms/step - accuracy: 0.8706 - loss: 0.3224\n",
      "Epoch 10/50\n",
      "\u001b[1m316/316\u001b[0m \u001b[32m━━━━━━━━━━━━━━━━━━━━\u001b[0m\u001b[37m\u001b[0m \u001b[1m1s\u001b[0m 2ms/step - accuracy: 0.8660 - loss: 0.3280\n",
      "Epoch 11/50\n",
      "\u001b[1m316/316\u001b[0m \u001b[32m━━━━━━━━━━━━━━━━━━━━\u001b[0m\u001b[37m\u001b[0m \u001b[1m1s\u001b[0m 3ms/step - accuracy: 0.8770 - loss: 0.3125\n",
      "Epoch 12/50\n",
      "\u001b[1m316/316\u001b[0m \u001b[32m━━━━━━━━━━━━━━━━━━━━\u001b[0m\u001b[37m\u001b[0m \u001b[1m1s\u001b[0m 2ms/step - accuracy: 0.8757 - loss: 0.3119\n",
      "Epoch 13/50\n",
      "\u001b[1m316/316\u001b[0m \u001b[32m━━━━━━━━━━━━━━━━━━━━\u001b[0m\u001b[37m\u001b[0m \u001b[1m1s\u001b[0m 3ms/step - accuracy: 0.8769 - loss: 0.3114\n",
      "Epoch 14/50\n",
      "\u001b[1m316/316\u001b[0m \u001b[32m━━━━━━━━━━━━━━━━━━━━\u001b[0m\u001b[37m\u001b[0m \u001b[1m1s\u001b[0m 2ms/step - accuracy: 0.8678 - loss: 0.3240\n",
      "Epoch 15/50\n",
      "\u001b[1m316/316\u001b[0m \u001b[32m━━━━━━━━━━━━━━━━━━━━\u001b[0m\u001b[37m\u001b[0m \u001b[1m1s\u001b[0m 3ms/step - accuracy: 0.8759 - loss: 0.3104\n",
      "Epoch 16/50\n",
      "\u001b[1m316/316\u001b[0m \u001b[32m━━━━━━━━━━━━━━━━━━━━\u001b[0m\u001b[37m\u001b[0m \u001b[1m1s\u001b[0m 4ms/step - accuracy: 0.8752 - loss: 0.3153\n",
      "Epoch 17/50\n",
      "\u001b[1m316/316\u001b[0m \u001b[32m━━━━━━━━━━━━━━━━━━━━\u001b[0m\u001b[37m\u001b[0m \u001b[1m1s\u001b[0m 3ms/step - accuracy: 0.8710 - loss: 0.3207\n",
      "Epoch 18/50\n",
      "\u001b[1m316/316\u001b[0m \u001b[32m━━━━━━━━━━━━━━━━━━━━\u001b[0m\u001b[37m\u001b[0m \u001b[1m1s\u001b[0m 3ms/step - accuracy: 0.8723 - loss: 0.3169\n",
      "Epoch 19/50\n",
      "\u001b[1m316/316\u001b[0m \u001b[32m━━━━━━━━━━━━━━━━━━━━\u001b[0m\u001b[37m\u001b[0m \u001b[1m1s\u001b[0m 4ms/step - accuracy: 0.8735 - loss: 0.3191\n",
      "Epoch 20/50\n",
      "\u001b[1m316/316\u001b[0m \u001b[32m━━━━━━━━━━━━━━━━━━━━\u001b[0m\u001b[37m\u001b[0m \u001b[1m1s\u001b[0m 4ms/step - accuracy: 0.8733 - loss: 0.3181\n",
      "Epoch 21/50\n",
      "\u001b[1m316/316\u001b[0m \u001b[32m━━━━━━━━━━━━━━━━━━━━\u001b[0m\u001b[37m\u001b[0m \u001b[1m1s\u001b[0m 2ms/step - accuracy: 0.8708 - loss: 0.3214\n",
      "Epoch 22/50\n",
      "\u001b[1m316/316\u001b[0m \u001b[32m━━━━━━━━━━━━━━━━━━━━\u001b[0m\u001b[37m\u001b[0m \u001b[1m1s\u001b[0m 2ms/step - accuracy: 0.8744 - loss: 0.3156\n",
      "Epoch 23/50\n",
      "\u001b[1m316/316\u001b[0m \u001b[32m━━━━━━━━━━━━━━━━━━━━\u001b[0m\u001b[37m\u001b[0m \u001b[1m1s\u001b[0m 3ms/step - accuracy: 0.8651 - loss: 0.3294\n",
      "Epoch 24/50\n",
      "\u001b[1m316/316\u001b[0m \u001b[32m━━━━━━━━━━━━━━━━━━━━\u001b[0m\u001b[37m\u001b[0m \u001b[1m1s\u001b[0m 2ms/step - accuracy: 0.8758 - loss: 0.3117\n",
      "Epoch 25/50\n",
      "\u001b[1m316/316\u001b[0m \u001b[32m━━━━━━━━━━━━━━━━━━━━\u001b[0m\u001b[37m\u001b[0m \u001b[1m1s\u001b[0m 2ms/step - accuracy: 0.8806 - loss: 0.3047\n",
      "Epoch 26/50\n",
      "\u001b[1m316/316\u001b[0m \u001b[32m━━━━━━━━━━━━━━━━━━━━\u001b[0m\u001b[37m\u001b[0m \u001b[1m1s\u001b[0m 2ms/step - accuracy: 0.8808 - loss: 0.3029\n",
      "Epoch 27/50\n",
      "\u001b[1m316/316\u001b[0m \u001b[32m━━━━━━━━━━━━━━━━━━━━\u001b[0m\u001b[37m\u001b[0m \u001b[1m1s\u001b[0m 2ms/step - accuracy: 0.8712 - loss: 0.3224\n",
      "Epoch 28/50\n",
      "\u001b[1m316/316\u001b[0m \u001b[32m━━━━━━━━━━━━━━━━━━━━\u001b[0m\u001b[37m\u001b[0m \u001b[1m1s\u001b[0m 3ms/step - accuracy: 0.8711 - loss: 0.3171\n",
      "Epoch 29/50\n",
      "\u001b[1m316/316\u001b[0m \u001b[32m━━━━━━━━━━━━━━━━━━━━\u001b[0m\u001b[37m\u001b[0m \u001b[1m1s\u001b[0m 2ms/step - accuracy: 0.8783 - loss: 0.3079\n",
      "Epoch 30/50\n",
      "\u001b[1m316/316\u001b[0m \u001b[32m━━━━━━━━━━━━━━━━━━━━\u001b[0m\u001b[37m\u001b[0m \u001b[1m1s\u001b[0m 2ms/step - accuracy: 0.8771 - loss: 0.3095\n",
      "Epoch 31/50\n",
      "\u001b[1m316/316\u001b[0m \u001b[32m━━━━━━━━━━━━━━━━━━━━\u001b[0m\u001b[37m\u001b[0m \u001b[1m1s\u001b[0m 3ms/step - accuracy: 0.8771 - loss: 0.3111\n",
      "Epoch 32/50\n",
      "\u001b[1m316/316\u001b[0m \u001b[32m━━━━━━━━━━━━━━━━━━━━\u001b[0m\u001b[37m\u001b[0m \u001b[1m1s\u001b[0m 2ms/step - accuracy: 0.8715 - loss: 0.3190\n",
      "Epoch 33/50\n",
      "\u001b[1m316/316\u001b[0m \u001b[32m━━━━━━━━━━━━━━━━━━━━\u001b[0m\u001b[37m\u001b[0m \u001b[1m1s\u001b[0m 3ms/step - accuracy: 0.8756 - loss: 0.3118\n",
      "Epoch 34/50\n",
      "\u001b[1m316/316\u001b[0m \u001b[32m━━━━━━━━━━━━━━━━━━━━\u001b[0m\u001b[37m\u001b[0m \u001b[1m3s\u001b[0m 8ms/step - accuracy: 0.8759 - loss: 0.3131\n",
      "Epoch 35/50\n",
      "\u001b[1m316/316\u001b[0m \u001b[32m━━━━━━━━━━━━━━━━━━━━\u001b[0m\u001b[37m\u001b[0m \u001b[1m1s\u001b[0m 3ms/step - accuracy: 0.8780 - loss: 0.3048\n",
      "Epoch 36/50\n",
      "\u001b[1m316/316\u001b[0m \u001b[32m━━━━━━━━━━━━━━━━━━━━\u001b[0m\u001b[37m\u001b[0m \u001b[1m1s\u001b[0m 2ms/step - accuracy: 0.8734 - loss: 0.3143\n",
      "Epoch 37/50\n",
      "\u001b[1m316/316\u001b[0m \u001b[32m━━━━━━━━━━━━━━━━━━━━\u001b[0m\u001b[37m\u001b[0m \u001b[1m1s\u001b[0m 2ms/step - accuracy: 0.8785 - loss: 0.3083\n",
      "Epoch 38/50\n",
      "\u001b[1m316/316\u001b[0m \u001b[32m━━━━━━━━━━━━━━━━━━━━\u001b[0m\u001b[37m\u001b[0m \u001b[1m1s\u001b[0m 3ms/step - accuracy: 0.8762 - loss: 0.3139\n",
      "Epoch 39/50\n",
      "\u001b[1m316/316\u001b[0m \u001b[32m━━━━━━━━━━━━━━━━━━━━\u001b[0m\u001b[37m\u001b[0m \u001b[1m1s\u001b[0m 2ms/step - accuracy: 0.8785 - loss: 0.3099\n",
      "Epoch 40/50\n",
      "\u001b[1m316/316\u001b[0m \u001b[32m━━━━━━━━━━━━━━━━━━━━\u001b[0m\u001b[37m\u001b[0m \u001b[1m1s\u001b[0m 3ms/step - accuracy: 0.8721 - loss: 0.3190\n",
      "Epoch 41/50\n",
      "\u001b[1m316/316\u001b[0m \u001b[32m━━━━━━━━━━━━━━━━━━━━\u001b[0m\u001b[37m\u001b[0m \u001b[1m1s\u001b[0m 3ms/step - accuracy: 0.8727 - loss: 0.3165\n",
      "Epoch 42/50\n",
      "\u001b[1m316/316\u001b[0m \u001b[32m━━━━━━━━━━━━━━━━━━━━\u001b[0m\u001b[37m\u001b[0m \u001b[1m1s\u001b[0m 2ms/step - accuracy: 0.8737 - loss: 0.3142\n",
      "Epoch 43/50\n",
      "\u001b[1m316/316\u001b[0m \u001b[32m━━━━━━━━━━━━━━━━━━━━\u001b[0m\u001b[37m\u001b[0m \u001b[1m1s\u001b[0m 3ms/step - accuracy: 0.8707 - loss: 0.3197\n",
      "Epoch 44/50\n",
      "\u001b[1m316/316\u001b[0m \u001b[32m━━━━━━━━━━━━━━━━━━━━\u001b[0m\u001b[37m\u001b[0m \u001b[1m1s\u001b[0m 2ms/step - accuracy: 0.8801 - loss: 0.3057\n",
      "Epoch 45/50\n",
      "\u001b[1m316/316\u001b[0m \u001b[32m━━━━━━━━━━━━━━━━━━━━\u001b[0m\u001b[37m\u001b[0m \u001b[1m1s\u001b[0m 2ms/step - accuracy: 0.8755 - loss: 0.3120\n",
      "Epoch 46/50\n",
      "\u001b[1m316/316\u001b[0m \u001b[32m━━━━━━━━━━━━━━━━━━━━\u001b[0m\u001b[37m\u001b[0m \u001b[1m1s\u001b[0m 4ms/step - accuracy: 0.8721 - loss: 0.3199\n",
      "Epoch 47/50\n",
      "\u001b[1m316/316\u001b[0m \u001b[32m━━━━━━━━━━━━━━━━━━━━\u001b[0m\u001b[37m\u001b[0m \u001b[1m1s\u001b[0m 3ms/step - accuracy: 0.8737 - loss: 0.3157\n",
      "Epoch 48/50\n",
      "\u001b[1m316/316\u001b[0m \u001b[32m━━━━━━━━━━━━━━━━━━━━\u001b[0m\u001b[37m\u001b[0m \u001b[1m1s\u001b[0m 3ms/step - accuracy: 0.8818 - loss: 0.3038\n",
      "Epoch 49/50\n",
      "\u001b[1m316/316\u001b[0m \u001b[32m━━━━━━━━━━━━━━━━━━━━\u001b[0m\u001b[37m\u001b[0m \u001b[1m1s\u001b[0m 3ms/step - accuracy: 0.8729 - loss: 0.3160\n",
      "Epoch 50/50\n",
      "\u001b[1m316/316\u001b[0m \u001b[32m━━━━━━━━━━━━━━━━━━━━\u001b[0m\u001b[37m\u001b[0m \u001b[1m1s\u001b[0m 3ms/step - accuracy: 0.8712 - loss: 0.3203\n",
      "\u001b[1m159/159\u001b[0m \u001b[32m━━━━━━━━━━━━━━━━━━━━\u001b[0m\u001b[37m\u001b[0m \u001b[1m0s\u001b[0m 2ms/step\n",
      "\u001b[1m18/18\u001b[0m \u001b[32m━━━━━━━━━━━━━━━━━━━━\u001b[0m\u001b[37m\u001b[0m \u001b[1m0s\u001b[0m 2ms/step \n",
      "train set error 0.0005897385492431573\n",
      "dev set error 0.00877192982456143\n",
      "------------\n",
      "precision_train 0.925\n",
      "precision_dev 0.5\n",
      "------------\n",
      "recall_train 1.0\n",
      "recall_dev 1.0\n",
      "------------\n",
      "confusion_matrix_train\n",
      "[[5047    3]\n",
      " [   0   37]]\n",
      "confusion_matrix_dev\n",
      "[[560   5]\n",
      " [  0   5]]\n",
      "------------\n",
      "Train Set Positive Predictions 40\n",
      "Dev Set Positive Predictions 10\n",
      "------------\n",
      "All 0's error train set 0.007273442107332416\n",
      "All 0's error dev set 0.008771929824561403\n",
      "------------\n",
      "------------\n"
     ]
    }
   ],
   "source": [
    "X_train, Y_train, X_dev, Y_dev = load_data(train_dataset_path, dev_dataset_path)\n",
    "model = build_network(X_train.shape[1:], n_layers=1, n_neurons=1)\n",
    "\n",
    "############## do we want to balance using SMOTE ??\n",
    "sm = SMOTE()\n",
    "X_train_sm, Y_train_sm = sm.fit_resample(X_train, Y_train)\n",
    "\n",
    "# Training the NN \n",
    "print(\"Training...\")\n",
    "\n",
    "history = model.fit(X_train_sm, Y_train_sm, epochs=50, batch_size=32)\n",
    "\n",
    "train_outputs = model.predict(X_train, batch_size=32) \n",
    "dev_outputs = model.predict(X_dev, batch_size=32) \n",
    "train_outputs = np.rint(train_outputs)\n",
    "dev_outputs = np.rint(dev_outputs)\n",
    "\n",
    "# Metrics\n",
    "accuracy_train = accuracy_score(Y_train, train_outputs)\n",
    "accuracy_dev = accuracy_score(Y_dev, dev_outputs)\n",
    "precision_train = precision_score(Y_train, train_outputs)\n",
    "precision_dev = precision_score(Y_dev, dev_outputs)\n",
    "recall_train = recall_score(Y_train, train_outputs)\n",
    "recall_dev = recall_score(Y_dev, dev_outputs)\n",
    "confusion_matrix_train = confusion_matrix(Y_train, train_outputs)\n",
    "confusion_matrix_dev = confusion_matrix(Y_dev, dev_outputs)\n",
    "\n",
    "print(\"train set error\", 1.0 - accuracy_train)\n",
    "print(\"dev set error\", 1.0 - accuracy_dev)\n",
    "print(\"------------\")\n",
    "print(\"precision_train\", precision_train)\n",
    "print(\"precision_dev\", precision_dev)\n",
    "print(\"------------\")\n",
    "print(\"recall_train\", recall_train)\n",
    "print(\"recall_dev\", recall_dev)\n",
    "print(\"------------\")\n",
    "print(\"confusion_matrix_train\")\n",
    "print(confusion_matrix_train)\n",
    "print(\"confusion_matrix_dev\")\n",
    "print(confusion_matrix_dev)\n",
    "print(\"------------\")\n",
    "print(\"Train Set Positive Predictions\", np.count_nonzero(train_outputs))\n",
    "print(\"Dev Set Positive Predictions\", np.count_nonzero(dev_outputs))\n",
    "#  Predicting 0's will give you error:\n",
    "print(\"------------\")\n",
    "print(\"All 0's error train set\", 37 / 5087)\n",
    "print(\"All 0's error dev set\", 5 / 570)\n",
    "\n",
    "print(\"------------\")\n",
    "print(\"------------\")\n",
    "\n",
    "if RENDER_PLOT:\n",
    "    # list all data in history\n",
    "    print(history.history.keys())\n",
    "    # summarize history for accuracy\n",
    "    plt.plot(history.history[\"accuracy\"])\n",
    "    # plt.plot(history.history['val_acc'])\n",
    "    plt.title(\"model accuracy\")\n",
    "    plt.ylabel(\"accuracy\")\n",
    "    plt.xlabel(\"epoch\")\n",
    "    plt.legend([\"train\", \"test\"], loc=\"upper left\")\n",
    "    plt.show()\n",
    "\n",
    "    # summarize history for loss\n",
    "    plt.plot(history.history[\"loss\"])\n",
    "    # plt.plot(history.history['val_loss'])\n",
    "    plt.title(\"model loss\")\n",
    "    plt.ylabel(\"loss\")\n",
    "    plt.xlabel(\"epoch\")\n",
    "    plt.legend([\"train\", \"test\"], loc=\"upper left\")\n",
    "    plt.show()"
   ]
  },
  {
   "cell_type": "markdown",
   "metadata": {},
   "source": [
    "We go on varying the number of layers and number of neurons per layer"
   ]
  },
  {
   "cell_type": "code",
   "execution_count": 9,
   "metadata": {},
   "outputs": [
    {
     "name": "stdout",
     "output_type": "stream",
     "text": [
      "Training with 1 hidden layers and 16 neurons per layer...\n"
     ]
    },
    {
     "name": "stderr",
     "output_type": "stream",
     "text": [
      "/home/gaia/third_semester/COMP-ASTRO/compastro/lib/python3.10/site-packages/keras/src/backend/tensorflow/nn.py:707: UserWarning: \"`binary_crossentropy` received `from_logits=True`, but the `output` argument was produced by a Sigmoid activation and thus does not represent logits. Was this intended?\n",
      "  output, from_logits = _get_logits(\n"
     ]
    },
    {
     "name": "stdout",
     "output_type": "stream",
     "text": [
      "confusion_matrix_train\n",
      "[[5048    2]\n",
      " [   0   37]]\n",
      "confusion_matrix_dev\n",
      "[[565   0]\n",
      " [  5   0]]\n",
      "------------\n",
      "------------\n",
      "Training with 1 hidden layers and 32 neurons per layer...\n"
     ]
    },
    {
     "name": "stderr",
     "output_type": "stream",
     "text": [
      "/home/gaia/third_semester/COMP-ASTRO/compastro/lib/python3.10/site-packages/keras/src/backend/tensorflow/nn.py:707: UserWarning: \"`binary_crossentropy` received `from_logits=True`, but the `output` argument was produced by a Sigmoid activation and thus does not represent logits. Was this intended?\n",
      "  output, from_logits = _get_logits(\n"
     ]
    },
    {
     "name": "stdout",
     "output_type": "stream",
     "text": [
      "confusion_matrix_train\n",
      "[[5048    2]\n",
      " [   0   37]]\n",
      "confusion_matrix_dev\n",
      "[[565   0]\n",
      " [  5   0]]\n",
      "------------\n",
      "------------\n",
      "Training with 1 hidden layers and 64 neurons per layer...\n"
     ]
    },
    {
     "name": "stderr",
     "output_type": "stream",
     "text": [
      "/home/gaia/third_semester/COMP-ASTRO/compastro/lib/python3.10/site-packages/keras/src/backend/tensorflow/nn.py:707: UserWarning: \"`binary_crossentropy` received `from_logits=True`, but the `output` argument was produced by a Sigmoid activation and thus does not represent logits. Was this intended?\n",
      "  output, from_logits = _get_logits(\n"
     ]
    },
    {
     "name": "stdout",
     "output_type": "stream",
     "text": [
      "confusion_matrix_train\n",
      "[[5047    3]\n",
      " [   0   37]]\n",
      "confusion_matrix_dev\n",
      "[[565   0]\n",
      " [  5   0]]\n",
      "------------\n",
      "------------\n",
      "Training with 2 hidden layers and 16 neurons per layer...\n"
     ]
    },
    {
     "name": "stderr",
     "output_type": "stream",
     "text": [
      "/home/gaia/third_semester/COMP-ASTRO/compastro/lib/python3.10/site-packages/keras/src/backend/tensorflow/nn.py:707: UserWarning: \"`binary_crossentropy` received `from_logits=True`, but the `output` argument was produced by a Sigmoid activation and thus does not represent logits. Was this intended?\n",
      "  output, from_logits = _get_logits(\n"
     ]
    },
    {
     "name": "stdout",
     "output_type": "stream",
     "text": [
      "confusion_matrix_train\n",
      "[[5048    2]\n",
      " [   0   37]]\n",
      "confusion_matrix_dev\n",
      "[[565   0]\n",
      " [  5   0]]\n",
      "------------\n",
      "------------\n",
      "Training with 2 hidden layers and 32 neurons per layer...\n"
     ]
    },
    {
     "name": "stderr",
     "output_type": "stream",
     "text": [
      "/home/gaia/third_semester/COMP-ASTRO/compastro/lib/python3.10/site-packages/keras/src/backend/tensorflow/nn.py:707: UserWarning: \"`binary_crossentropy` received `from_logits=True`, but the `output` argument was produced by a Sigmoid activation and thus does not represent logits. Was this intended?\n",
      "  output, from_logits = _get_logits(\n"
     ]
    },
    {
     "name": "stdout",
     "output_type": "stream",
     "text": [
      "confusion_matrix_train\n",
      "[[5045    5]\n",
      " [   0   37]]\n",
      "confusion_matrix_dev\n",
      "[[565   0]\n",
      " [  5   0]]\n",
      "------------\n",
      "------------\n",
      "Training with 2 hidden layers and 64 neurons per layer...\n"
     ]
    },
    {
     "name": "stderr",
     "output_type": "stream",
     "text": [
      "/home/gaia/third_semester/COMP-ASTRO/compastro/lib/python3.10/site-packages/keras/src/backend/tensorflow/nn.py:707: UserWarning: \"`binary_crossentropy` received `from_logits=True`, but the `output` argument was produced by a Sigmoid activation and thus does not represent logits. Was this intended?\n",
      "  output, from_logits = _get_logits(\n"
     ]
    },
    {
     "name": "stdout",
     "output_type": "stream",
     "text": [
      "confusion_matrix_train\n",
      "[[5047    3]\n",
      " [   0   37]]\n",
      "confusion_matrix_dev\n",
      "[[565   0]\n",
      " [  5   0]]\n",
      "------------\n",
      "------------\n",
      "Training with 3 hidden layers and 16 neurons per layer...\n"
     ]
    },
    {
     "name": "stderr",
     "output_type": "stream",
     "text": [
      "/home/gaia/third_semester/COMP-ASTRO/compastro/lib/python3.10/site-packages/keras/src/backend/tensorflow/nn.py:707: UserWarning: \"`binary_crossentropy` received `from_logits=True`, but the `output` argument was produced by a Sigmoid activation and thus does not represent logits. Was this intended?\n",
      "  output, from_logits = _get_logits(\n"
     ]
    },
    {
     "name": "stdout",
     "output_type": "stream",
     "text": [
      "confusion_matrix_train\n",
      "[[5045    5]\n",
      " [   0   37]]\n",
      "confusion_matrix_dev\n",
      "[[565   0]\n",
      " [  5   0]]\n",
      "------------\n",
      "------------\n",
      "Training with 3 hidden layers and 32 neurons per layer...\n"
     ]
    },
    {
     "name": "stderr",
     "output_type": "stream",
     "text": [
      "/home/gaia/third_semester/COMP-ASTRO/compastro/lib/python3.10/site-packages/keras/src/backend/tensorflow/nn.py:707: UserWarning: \"`binary_crossentropy` received `from_logits=True`, but the `output` argument was produced by a Sigmoid activation and thus does not represent logits. Was this intended?\n",
      "  output, from_logits = _get_logits(\n"
     ]
    },
    {
     "name": "stdout",
     "output_type": "stream",
     "text": [
      "confusion_matrix_train\n",
      "[[5046    4]\n",
      " [   0   37]]\n",
      "confusion_matrix_dev\n",
      "[[565   0]\n",
      " [  5   0]]\n",
      "------------\n",
      "------------\n",
      "Training with 3 hidden layers and 64 neurons per layer...\n"
     ]
    },
    {
     "name": "stderr",
     "output_type": "stream",
     "text": [
      "/home/gaia/third_semester/COMP-ASTRO/compastro/lib/python3.10/site-packages/keras/src/backend/tensorflow/nn.py:707: UserWarning: \"`binary_crossentropy` received `from_logits=True`, but the `output` argument was produced by a Sigmoid activation and thus does not represent logits. Was this intended?\n",
      "  output, from_logits = _get_logits(\n"
     ]
    },
    {
     "name": "stdout",
     "output_type": "stream",
     "text": [
      "confusion_matrix_train\n",
      "[[5047    3]\n",
      " [   0   37]]\n",
      "confusion_matrix_dev\n",
      "[[565   0]\n",
      " [  5   0]]\n",
      "------------\n",
      "------------\n"
     ]
    }
   ],
   "source": [
    "import itertools\n",
    "\n",
    "n_layers = [1,2,3]\n",
    "n_neurons = [16,32,64]\n",
    "combinations = list(itertools.product(n_layers, n_neurons))\n",
    "\n",
    "for combo in combinations:\n",
    "    model = build_network(X_train.shape[1:], n_layers=combo[0], n_neurons=combo[1])\n",
    "\n",
    "    sm = SMOTE()\n",
    "    X_train_sm, Y_train_sm = sm.fit_resample(X_train, Y_train)\n",
    "\n",
    "    # Training the NN \n",
    "    print(f\"Training with {combo[0]} hidden layers and {combo[1]} neurons per layer...\")\n",
    "\n",
    "    history = model.fit(X_train_sm, Y_train_sm, epochs=50, batch_size=32, verbose=0)\n",
    "\n",
    "    train_outputs = model.predict(X_train, batch_size=32, verbose=0) \n",
    "    dev_outputs = model.predict(X_dev, batch_size=32, verbose=0) \n",
    "    train_outputs = np.rint(train_outputs)\n",
    "    dev_outputs = np.rint(dev_outputs)\n",
    "\n",
    "    confusion_matrix_train = confusion_matrix(Y_train, train_outputs)\n",
    "    confusion_matrix_dev = confusion_matrix(Y_dev, dev_outputs)\n",
    "\n",
    "    print(\"confusion_matrix_train\")\n",
    "    print(confusion_matrix_train)\n",
    "    print(\"confusion_matrix_dev\")\n",
    "    print(confusion_matrix_dev)\n",
    "\n",
    "    print(\"------------\")\n",
    "    print(\"------------\")"
   ]
  },
  {
   "cell_type": "markdown",
   "metadata": {},
   "source": [
    "### NN on injection data"
   ]
  },
  {
   "cell_type": "code",
   "execution_count": 11,
   "metadata": {},
   "outputs": [
    {
     "name": "stdout",
     "output_type": "stream",
     "text": [
      "Loading datasets...\n",
      "Applying Fourier...\n",
      "Normalizing...\n",
      "Applying Gaussian Filter...\n"
     ]
    },
    {
     "name": "stderr",
     "output_type": "stream",
     "text": [
      "/tmp/ipykernel_22457/4062776567.py:51: DeprecationWarning: Please import `gaussian_filter` from the `scipy.ndimage` namespace; the `scipy.ndimage.filters` namespace is deprecated and will be removed in SciPy 2.0.0.\n",
      "  df_train_x = ndimage.filters.gaussian_filter(df_train_x, sigma=10)\n",
      "/tmp/ipykernel_22457/4062776567.py:52: DeprecationWarning: Please import `gaussian_filter` from the `scipy.ndimage` namespace; the `scipy.ndimage.filters` namespace is deprecated and will be removed in SciPy 2.0.0.\n",
      "  df_dev_x = ndimage.filters.gaussian_filter(df_dev_x, sigma=10)\n"
     ]
    },
    {
     "name": "stdout",
     "output_type": "stream",
     "text": [
      "Standardizing...\n",
      "Finished Processing!\n",
      "X_train.shape:  (5087, 1598)\n",
      "Y_train.shape:  (5087, 1)\n",
      "X_dev.shape:  (570, 1598)\n",
      "Y_dev.shape:  (570, 1)\n",
      "Training...\n",
      "Epoch 1/50\n"
     ]
    },
    {
     "name": "stderr",
     "output_type": "stream",
     "text": [
      "/home/gaia/third_semester/COMP-ASTRO/compastro/lib/python3.10/site-packages/keras/src/backend/tensorflow/nn.py:707: UserWarning: \"`binary_crossentropy` received `from_logits=True`, but the `output` argument was produced by a Sigmoid activation and thus does not represent logits. Was this intended?\n",
      "  output, from_logits = _get_logits(\n"
     ]
    },
    {
     "name": "stdout",
     "output_type": "stream",
     "text": [
      "\u001b[1m179/179\u001b[0m \u001b[32m━━━━━━━━━━━━━━━━━━━━\u001b[0m\u001b[37m\u001b[0m \u001b[1m1s\u001b[0m 3ms/step - accuracy: 0.4920 - loss: 0.7534\n",
      "Epoch 2/50\n",
      "\u001b[1m179/179\u001b[0m \u001b[32m━━━━━━━━━━━━━━━━━━━━\u001b[0m\u001b[37m\u001b[0m \u001b[1m1s\u001b[0m 4ms/step - accuracy: 0.4941 - loss: 0.7386\n",
      "Epoch 3/50\n",
      "\u001b[1m179/179\u001b[0m \u001b[32m━━━━━━━━━━━━━━━━━━━━\u001b[0m\u001b[37m\u001b[0m \u001b[1m0s\u001b[0m 2ms/step - accuracy: 0.4841 - loss: 0.7089\n",
      "Epoch 4/50\n",
      "\u001b[1m179/179\u001b[0m \u001b[32m━━━━━━━━━━━━━━━━━━━━\u001b[0m\u001b[37m\u001b[0m \u001b[1m1s\u001b[0m 3ms/step - accuracy: 0.5050 - loss: 0.6993\n",
      "Epoch 5/50\n",
      "\u001b[1m179/179\u001b[0m \u001b[32m━━━━━━━━━━━━━━━━━━━━\u001b[0m\u001b[37m\u001b[0m \u001b[1m1s\u001b[0m 3ms/step - accuracy: 0.5005 - loss: 0.7068\n",
      "Epoch 6/50\n",
      "\u001b[1m179/179\u001b[0m \u001b[32m━━━━━━━━━━━━━━━━━━━━\u001b[0m\u001b[37m\u001b[0m \u001b[1m0s\u001b[0m 2ms/step - accuracy: 0.5130 - loss: 0.7086\n",
      "Epoch 7/50\n",
      "\u001b[1m179/179\u001b[0m \u001b[32m━━━━━━━━━━━━━━━━━━━━\u001b[0m\u001b[37m\u001b[0m \u001b[1m0s\u001b[0m 2ms/step - accuracy: 0.5149 - loss: 0.6961\n",
      "Epoch 8/50\n",
      "\u001b[1m179/179\u001b[0m \u001b[32m━━━━━━━━━━━━━━━━━━━━\u001b[0m\u001b[37m\u001b[0m \u001b[1m0s\u001b[0m 2ms/step - accuracy: 0.5072 - loss: 0.7007\n",
      "Epoch 9/50\n",
      "\u001b[1m179/179\u001b[0m \u001b[32m━━━━━━━━━━━━━━━━━━━━\u001b[0m\u001b[37m\u001b[0m \u001b[1m0s\u001b[0m 2ms/step - accuracy: 0.5141 - loss: 0.7021\n",
      "Epoch 10/50\n",
      "\u001b[1m179/179\u001b[0m \u001b[32m━━━━━━━━━━━━━━━━━━━━\u001b[0m\u001b[37m\u001b[0m \u001b[1m0s\u001b[0m 2ms/step - accuracy: 0.5052 - loss: 0.6991\n",
      "Epoch 11/50\n",
      "\u001b[1m179/179\u001b[0m \u001b[32m━━━━━━━━━━━━━━━━━━━━\u001b[0m\u001b[37m\u001b[0m \u001b[1m0s\u001b[0m 2ms/step - accuracy: 0.5093 - loss: 0.6958\n",
      "Epoch 12/50\n",
      "\u001b[1m179/179\u001b[0m \u001b[32m━━━━━━━━━━━━━━━━━━━━\u001b[0m\u001b[37m\u001b[0m \u001b[1m0s\u001b[0m 2ms/step - accuracy: 0.5080 - loss: 0.6949\n",
      "Epoch 13/50\n",
      "\u001b[1m179/179\u001b[0m \u001b[32m━━━━━━━━━━━━━━━━━━━━\u001b[0m\u001b[37m\u001b[0m \u001b[1m0s\u001b[0m 2ms/step - accuracy: 0.5125 - loss: 0.6947\n",
      "Epoch 14/50\n",
      "\u001b[1m179/179\u001b[0m \u001b[32m━━━━━━━━━━━━━━━━━━━━\u001b[0m\u001b[37m\u001b[0m \u001b[1m0s\u001b[0m 2ms/step - accuracy: 0.5121 - loss: 0.6985\n",
      "Epoch 15/50\n",
      "\u001b[1m179/179\u001b[0m \u001b[32m━━━━━━━━━━━━━━━━━━━━\u001b[0m\u001b[37m\u001b[0m \u001b[1m0s\u001b[0m 2ms/step - accuracy: 0.5102 - loss: 0.6928\n",
      "Epoch 16/50\n",
      "\u001b[1m179/179\u001b[0m \u001b[32m━━━━━━━━━━━━━━━━━━━━\u001b[0m\u001b[37m\u001b[0m \u001b[1m0s\u001b[0m 2ms/step - accuracy: 0.5296 - loss: 0.6939\n",
      "Epoch 17/50\n",
      "\u001b[1m179/179\u001b[0m \u001b[32m━━━━━━━━━━━━━━━━━━━━\u001b[0m\u001b[37m\u001b[0m \u001b[1m0s\u001b[0m 2ms/step - accuracy: 0.5272 - loss: 0.6906\n",
      "Epoch 18/50\n",
      "\u001b[1m179/179\u001b[0m \u001b[32m━━━━━━━━━━━━━━━━━━━━\u001b[0m\u001b[37m\u001b[0m \u001b[1m0s\u001b[0m 2ms/step - accuracy: 0.4998 - loss: 0.6937\n",
      "Epoch 19/50\n",
      "\u001b[1m179/179\u001b[0m \u001b[32m━━━━━━━━━━━━━━━━━━━━\u001b[0m\u001b[37m\u001b[0m \u001b[1m0s\u001b[0m 2ms/step - accuracy: 0.5099 - loss: 0.6928\n",
      "Epoch 20/50\n",
      "\u001b[1m179/179\u001b[0m \u001b[32m━━━━━━━━━━━━━━━━━━━━\u001b[0m\u001b[37m\u001b[0m \u001b[1m1s\u001b[0m 3ms/step - accuracy: 0.5048 - loss: 0.6940\n",
      "Epoch 21/50\n",
      "\u001b[1m179/179\u001b[0m \u001b[32m━━━━━━━━━━━━━━━━━━━━\u001b[0m\u001b[37m\u001b[0m \u001b[1m0s\u001b[0m 2ms/step - accuracy: 0.5112 - loss: 0.6920\n",
      "Epoch 22/50\n",
      "\u001b[1m179/179\u001b[0m \u001b[32m━━━━━━━━━━━━━━━━━━━━\u001b[0m\u001b[37m\u001b[0m \u001b[1m0s\u001b[0m 2ms/step - accuracy: 0.5157 - loss: 0.6911\n",
      "Epoch 23/50\n",
      "\u001b[1m179/179\u001b[0m \u001b[32m━━━━━━━━━━━━━━━━━━━━\u001b[0m\u001b[37m\u001b[0m \u001b[1m0s\u001b[0m 2ms/step - accuracy: 0.5045 - loss: 0.6921\n",
      "Epoch 24/50\n",
      "\u001b[1m179/179\u001b[0m \u001b[32m━━━━━━━━━━━━━━━━━━━━\u001b[0m\u001b[37m\u001b[0m \u001b[1m0s\u001b[0m 2ms/step - accuracy: 0.5231 - loss: 0.6925\n",
      "Epoch 25/50\n",
      "\u001b[1m179/179\u001b[0m \u001b[32m━━━━━━━━━━━━━━━━━━━━\u001b[0m\u001b[37m\u001b[0m \u001b[1m0s\u001b[0m 3ms/step - accuracy: 0.5121 - loss: 0.6910\n",
      "Epoch 26/50\n",
      "\u001b[1m179/179\u001b[0m \u001b[32m━━━━━━━━━━━━━━━━━━━━\u001b[0m\u001b[37m\u001b[0m \u001b[1m0s\u001b[0m 2ms/step - accuracy: 0.5002 - loss: 0.6932\n",
      "Epoch 27/50\n",
      "\u001b[1m179/179\u001b[0m \u001b[32m━━━━━━━━━━━━━━━━━━━━\u001b[0m\u001b[37m\u001b[0m \u001b[1m1s\u001b[0m 3ms/step - accuracy: 0.5096 - loss: 0.6931\n",
      "Epoch 28/50\n",
      "\u001b[1m179/179\u001b[0m \u001b[32m━━━━━━━━━━━━━━━━━━━━\u001b[0m\u001b[37m\u001b[0m \u001b[1m1s\u001b[0m 3ms/step - accuracy: 0.5265 - loss: 0.6918\n",
      "Epoch 29/50\n",
      "\u001b[1m179/179\u001b[0m \u001b[32m━━━━━━━━━━━━━━━━━━━━\u001b[0m\u001b[37m\u001b[0m \u001b[1m0s\u001b[0m 3ms/step - accuracy: 0.5199 - loss: 0.6932\n",
      "Epoch 30/50\n",
      "\u001b[1m179/179\u001b[0m \u001b[32m━━━━━━━━━━━━━━━━━━━━\u001b[0m\u001b[37m\u001b[0m \u001b[1m1s\u001b[0m 3ms/step - accuracy: 0.5129 - loss: 0.6929\n",
      "Epoch 31/50\n",
      "\u001b[1m179/179\u001b[0m \u001b[32m━━━━━━━━━━━━━━━━━━━━\u001b[0m\u001b[37m\u001b[0m \u001b[1m0s\u001b[0m 3ms/step - accuracy: 0.5105 - loss: 0.6920\n",
      "Epoch 32/50\n",
      "\u001b[1m179/179\u001b[0m \u001b[32m━━━━━━━━━━━━━━━━━━━━\u001b[0m\u001b[37m\u001b[0m \u001b[1m1s\u001b[0m 3ms/step - accuracy: 0.5026 - loss: 0.6935\n",
      "Epoch 33/50\n",
      "\u001b[1m179/179\u001b[0m \u001b[32m━━━━━━━━━━━━━━━━━━━━\u001b[0m\u001b[37m\u001b[0m \u001b[1m1s\u001b[0m 3ms/step - accuracy: 0.5120 - loss: 0.6922\n",
      "Epoch 34/50\n",
      "\u001b[1m179/179\u001b[0m \u001b[32m━━━━━━━━━━━━━━━━━━━━\u001b[0m\u001b[37m\u001b[0m \u001b[1m1s\u001b[0m 3ms/step - accuracy: 0.5074 - loss: 0.6918\n",
      "Epoch 35/50\n",
      "\u001b[1m179/179\u001b[0m \u001b[32m━━━━━━━━━━━━━━━━━━━━\u001b[0m\u001b[37m\u001b[0m \u001b[1m0s\u001b[0m 3ms/step - accuracy: 0.5157 - loss: 0.6918\n",
      "Epoch 36/50\n",
      "\u001b[1m179/179\u001b[0m \u001b[32m━━━━━━━━━━━━━━━━━━━━\u001b[0m\u001b[37m\u001b[0m \u001b[1m0s\u001b[0m 2ms/step - accuracy: 0.5098 - loss: 0.6928\n",
      "Epoch 37/50\n",
      "\u001b[1m179/179\u001b[0m \u001b[32m━━━━━━━━━━━━━━━━━━━━\u001b[0m\u001b[37m\u001b[0m \u001b[1m1s\u001b[0m 3ms/step - accuracy: 0.5102 - loss: 0.6929\n",
      "Epoch 38/50\n",
      "\u001b[1m179/179\u001b[0m \u001b[32m━━━━━━━━━━━━━━━━━━━━\u001b[0m\u001b[37m\u001b[0m \u001b[1m1s\u001b[0m 3ms/step - accuracy: 0.5178 - loss: 0.6923\n",
      "Epoch 39/50\n",
      "\u001b[1m179/179\u001b[0m \u001b[32m━━━━━━━━━━━━━━━━━━━━\u001b[0m\u001b[37m\u001b[0m \u001b[1m1s\u001b[0m 3ms/step - accuracy: 0.5051 - loss: 0.6925\n",
      "Epoch 40/50\n",
      "\u001b[1m179/179\u001b[0m \u001b[32m━━━━━━━━━━━━━━━━━━━━\u001b[0m\u001b[37m\u001b[0m \u001b[1m1s\u001b[0m 3ms/step - accuracy: 0.5261 - loss: 0.6920\n",
      "Epoch 41/50\n",
      "\u001b[1m179/179\u001b[0m \u001b[32m━━━━━━━━━━━━━━━━━━━━\u001b[0m\u001b[37m\u001b[0m \u001b[1m1s\u001b[0m 3ms/step - accuracy: 0.5159 - loss: 0.6927\n",
      "Epoch 42/50\n",
      "\u001b[1m179/179\u001b[0m \u001b[32m━━━━━━━━━━━━━━━━━━━━\u001b[0m\u001b[37m\u001b[0m \u001b[1m1s\u001b[0m 3ms/step - accuracy: 0.5097 - loss: 0.6925\n",
      "Epoch 43/50\n",
      "\u001b[1m179/179\u001b[0m \u001b[32m━━━━━━━━━━━━━━━━━━━━\u001b[0m\u001b[37m\u001b[0m \u001b[1m1s\u001b[0m 4ms/step - accuracy: 0.5200 - loss: 0.6904\n",
      "Epoch 44/50\n",
      "\u001b[1m179/179\u001b[0m \u001b[32m━━━━━━━━━━━━━━━━━━━━\u001b[0m\u001b[37m\u001b[0m \u001b[1m1s\u001b[0m 4ms/step - accuracy: 0.5115 - loss: 0.6920\n",
      "Epoch 45/50\n",
      "\u001b[1m179/179\u001b[0m \u001b[32m━━━━━━━━━━━━━━━━━━━━\u001b[0m\u001b[37m\u001b[0m \u001b[1m1s\u001b[0m 3ms/step - accuracy: 0.5209 - loss: 0.6907\n",
      "Epoch 46/50\n",
      "\u001b[1m179/179\u001b[0m \u001b[32m━━━━━━━━━━━━━━━━━━━━\u001b[0m\u001b[37m\u001b[0m \u001b[1m0s\u001b[0m 2ms/step - accuracy: 0.5199 - loss: 0.6908\n",
      "Epoch 47/50\n",
      "\u001b[1m179/179\u001b[0m \u001b[32m━━━━━━━━━━━━━━━━━━━━\u001b[0m\u001b[37m\u001b[0m \u001b[1m1s\u001b[0m 3ms/step - accuracy: 0.5093 - loss: 0.6911\n",
      "Epoch 48/50\n",
      "\u001b[1m179/179\u001b[0m \u001b[32m━━━━━━━━━━━━━━━━━━━━\u001b[0m\u001b[37m\u001b[0m \u001b[1m1s\u001b[0m 4ms/step - accuracy: 0.5101 - loss: 0.6921\n",
      "Epoch 49/50\n",
      "\u001b[1m179/179\u001b[0m \u001b[32m━━━━━━━━━━━━━━━━━━━━\u001b[0m\u001b[37m\u001b[0m \u001b[1m1s\u001b[0m 5ms/step - accuracy: 0.5185 - loss: 0.6910\n",
      "Epoch 50/50\n",
      "\u001b[1m179/179\u001b[0m \u001b[32m━━━━━━━━━━━━━━━━━━━━\u001b[0m\u001b[37m\u001b[0m \u001b[1m1s\u001b[0m 3ms/step - accuracy: 0.5175 - loss: 0.6913\n",
      "\u001b[1m159/159\u001b[0m \u001b[32m━━━━━━━━━━━━━━━━━━━━\u001b[0m\u001b[37m\u001b[0m \u001b[1m0s\u001b[0m 2ms/step\n",
      "\u001b[1m18/18\u001b[0m \u001b[32m━━━━━━━━━━━━━━━━━━━━\u001b[0m\u001b[37m\u001b[0m \u001b[1m0s\u001b[0m 2ms/step\n",
      "train set error 0.4578336937291134\n",
      "dev set error 0.4614035087719298\n",
      "------------\n",
      "precision_train 0.5727173318753417\n",
      "precision_dev 0.5609195402298851\n",
      "------------\n",
      "recall_train 0.7322614470464872\n",
      "recall_dev 0.7721518987341772\n",
      "------------\n",
      "confusion_matrix_train\n",
      "[[ 663 1563]\n",
      " [ 766 2095]]\n",
      "confusion_matrix_dev\n",
      "[[ 63 191]\n",
      " [ 72 244]]\n",
      "------------\n",
      "Train Set Positive Predictions 3658\n",
      "Dev Set Positive Predictions 435\n",
      "------------\n",
      "All 0's error train set 0.007273442107332416\n",
      "All 0's error dev set 0.008771929824561403\n",
      "------------\n",
      "------------\n"
     ]
    }
   ],
   "source": [
    "train_dataset_path = f\"{path_to_data}/data_injected/exoTrain.csv\"\n",
    "dev_dataset_path = f\"{path_to_data}/data_injected/exoTest.csv\"\n",
    "\n",
    "X_train, Y_train, X_dev, Y_dev = load_data(train_dataset_path, dev_dataset_path)\n",
    "model = build_network(X_train.shape[1:], n_layers=1, n_neurons=1)\n",
    "\n",
    "############## do we want to balance using SMOTE ??\n",
    "sm = SMOTE()\n",
    "X_train_sm, Y_train_sm = sm.fit_resample(X_train, Y_train)\n",
    "\n",
    "# Training the NN \n",
    "print(\"Training...\")\n",
    "\n",
    "history = model.fit(X_train_sm, Y_train_sm, epochs=50, batch_size=32)\n",
    "\n",
    "train_outputs = model.predict(X_train, batch_size=32) \n",
    "dev_outputs = model.predict(X_dev, batch_size=32) \n",
    "train_outputs = np.rint(train_outputs)\n",
    "dev_outputs = np.rint(dev_outputs)\n",
    "\n",
    "# Metrics\n",
    "accuracy_train = accuracy_score(Y_train, train_outputs)\n",
    "accuracy_dev = accuracy_score(Y_dev, dev_outputs)\n",
    "precision_train = precision_score(Y_train, train_outputs)\n",
    "precision_dev = precision_score(Y_dev, dev_outputs)\n",
    "recall_train = recall_score(Y_train, train_outputs)\n",
    "recall_dev = recall_score(Y_dev, dev_outputs)\n",
    "confusion_matrix_train = confusion_matrix(Y_train, train_outputs)\n",
    "confusion_matrix_dev = confusion_matrix(Y_dev, dev_outputs)\n",
    "\n",
    "print(\"train set error\", 1.0 - accuracy_train)\n",
    "print(\"dev set error\", 1.0 - accuracy_dev)\n",
    "print(\"------------\")\n",
    "print(\"precision_train\", precision_train)\n",
    "print(\"precision_dev\", precision_dev)\n",
    "print(\"------------\")\n",
    "print(\"recall_train\", recall_train)\n",
    "print(\"recall_dev\", recall_dev)\n",
    "print(\"------------\")\n",
    "print(\"confusion_matrix_train\")\n",
    "print(confusion_matrix_train)\n",
    "print(\"confusion_matrix_dev\")\n",
    "print(confusion_matrix_dev)\n",
    "print(\"------------\")\n",
    "print(\"Train Set Positive Predictions\", np.count_nonzero(train_outputs))\n",
    "print(\"Dev Set Positive Predictions\", np.count_nonzero(dev_outputs))\n",
    "#  Predicting 0's will give you error:\n",
    "print(\"------------\")\n",
    "print(\"All 0's error train set\", 37 / 5087)\n",
    "print(\"All 0's error dev set\", 5 / 570)\n",
    "\n",
    "print(\"------------\")\n",
    "print(\"------------\")\n",
    "\n",
    "if RENDER_PLOT:\n",
    "    # list all data in history\n",
    "    print(history.history.keys())\n",
    "    # summarize history for accuracy\n",
    "    plt.plot(history.history[\"accuracy\"])\n",
    "    # plt.plot(history.history['val_acc'])\n",
    "    plt.title(\"model accuracy\")\n",
    "    plt.ylabel(\"accuracy\")\n",
    "    plt.xlabel(\"epoch\")\n",
    "    plt.legend([\"train\", \"test\"], loc=\"upper left\")\n",
    "    plt.show()\n",
    "\n",
    "    # summarize history for loss\n",
    "    plt.plot(history.history[\"loss\"])\n",
    "    # plt.plot(history.history['val_loss'])\n",
    "    plt.title(\"model loss\")\n",
    "    plt.ylabel(\"loss\")\n",
    "    plt.xlabel(\"epoch\")\n",
    "    plt.legend([\"train\", \"test\"], loc=\"upper left\")\n",
    "    plt.show()"
   ]
  },
  {
   "cell_type": "code",
   "execution_count": 13,
   "metadata": {},
   "outputs": [
    {
     "name": "stdout",
     "output_type": "stream",
     "text": [
      "Training with 1 hidden layers and 16 neurons per layer...\n"
     ]
    },
    {
     "name": "stderr",
     "output_type": "stream",
     "text": [
      "/home/gaia/third_semester/COMP-ASTRO/compastro/lib/python3.10/site-packages/keras/src/backend/tensorflow/nn.py:707: UserWarning: \"`binary_crossentropy` received `from_logits=True`, but the `output` argument was produced by a Sigmoid activation and thus does not represent logits. Was this intended?\n",
      "  output, from_logits = _get_logits(\n"
     ]
    },
    {
     "name": "stdout",
     "output_type": "stream",
     "text": [
      "confusion_matrix_train\n",
      "[[ 898 1328]\n",
      " [ 906 1955]]\n",
      "confusion_matrix_dev\n",
      "[[ 83 171]\n",
      " [ 97 219]]\n",
      "------------\n",
      "------------\n",
      "Training with 1 hidden layers and 32 neurons per layer...\n"
     ]
    },
    {
     "name": "stderr",
     "output_type": "stream",
     "text": [
      "/home/gaia/third_semester/COMP-ASTRO/compastro/lib/python3.10/site-packages/keras/src/backend/tensorflow/nn.py:707: UserWarning: \"`binary_crossentropy` received `from_logits=True`, but the `output` argument was produced by a Sigmoid activation and thus does not represent logits. Was this intended?\n",
      "  output, from_logits = _get_logits(\n"
     ]
    },
    {
     "name": "stdout",
     "output_type": "stream",
     "text": [
      "confusion_matrix_train\n",
      "[[1076 1150]\n",
      " [1192 1669]]\n",
      "confusion_matrix_dev\n",
      "[[ 45 209]\n",
      " [ 49 267]]\n",
      "------------\n",
      "------------\n",
      "Training with 1 hidden layers and 64 neurons per layer...\n"
     ]
    },
    {
     "name": "stderr",
     "output_type": "stream",
     "text": [
      "/home/gaia/third_semester/COMP-ASTRO/compastro/lib/python3.10/site-packages/keras/src/backend/tensorflow/nn.py:707: UserWarning: \"`binary_crossentropy` received `from_logits=True`, but the `output` argument was produced by a Sigmoid activation and thus does not represent logits. Was this intended?\n",
      "  output, from_logits = _get_logits(\n"
     ]
    },
    {
     "name": "stdout",
     "output_type": "stream",
     "text": [
      "confusion_matrix_train\n",
      "[[1217 1009]\n",
      " [1345 1516]]\n",
      "confusion_matrix_dev\n",
      "[[  4 250]\n",
      " [ 10 306]]\n",
      "------------\n",
      "------------\n",
      "Training with 2 hidden layers and 16 neurons per layer...\n"
     ]
    },
    {
     "name": "stderr",
     "output_type": "stream",
     "text": [
      "/home/gaia/third_semester/COMP-ASTRO/compastro/lib/python3.10/site-packages/keras/src/backend/tensorflow/nn.py:707: UserWarning: \"`binary_crossentropy` received `from_logits=True`, but the `output` argument was produced by a Sigmoid activation and thus does not represent logits. Was this intended?\n",
      "  output, from_logits = _get_logits(\n"
     ]
    },
    {
     "name": "stdout",
     "output_type": "stream",
     "text": [
      "confusion_matrix_train\n",
      "[[1366  860]\n",
      " [1522 1339]]\n",
      "confusion_matrix_dev\n",
      "[[124 130]\n",
      " [157 159]]\n",
      "------------\n",
      "------------\n",
      "Training with 2 hidden layers and 32 neurons per layer...\n"
     ]
    },
    {
     "name": "stderr",
     "output_type": "stream",
     "text": [
      "/home/gaia/third_semester/COMP-ASTRO/compastro/lib/python3.10/site-packages/keras/src/backend/tensorflow/nn.py:707: UserWarning: \"`binary_crossentropy` received `from_logits=True`, but the `output` argument was produced by a Sigmoid activation and thus does not represent logits. Was this intended?\n",
      "  output, from_logits = _get_logits(\n"
     ]
    },
    {
     "name": "stdout",
     "output_type": "stream",
     "text": [
      "confusion_matrix_train\n",
      "[[1228  998]\n",
      " [1314 1547]]\n",
      "confusion_matrix_dev\n",
      "[[ 33 221]\n",
      " [ 26 290]]\n",
      "------------\n",
      "------------\n",
      "Training with 2 hidden layers and 64 neurons per layer...\n"
     ]
    },
    {
     "name": "stderr",
     "output_type": "stream",
     "text": [
      "/home/gaia/third_semester/COMP-ASTRO/compastro/lib/python3.10/site-packages/keras/src/backend/tensorflow/nn.py:707: UserWarning: \"`binary_crossentropy` received `from_logits=True`, but the `output` argument was produced by a Sigmoid activation and thus does not represent logits. Was this intended?\n",
      "  output, from_logits = _get_logits(\n"
     ]
    },
    {
     "name": "stdout",
     "output_type": "stream",
     "text": [
      "confusion_matrix_train\n",
      "[[ 428 1798]\n",
      " [ 303 2558]]\n",
      "confusion_matrix_dev\n",
      "[[ 15 239]\n",
      " [ 14 302]]\n",
      "------------\n",
      "------------\n",
      "Training with 3 hidden layers and 16 neurons per layer...\n"
     ]
    },
    {
     "name": "stderr",
     "output_type": "stream",
     "text": [
      "/home/gaia/third_semester/COMP-ASTRO/compastro/lib/python3.10/site-packages/keras/src/backend/tensorflow/nn.py:707: UserWarning: \"`binary_crossentropy` received `from_logits=True`, but the `output` argument was produced by a Sigmoid activation and thus does not represent logits. Was this intended?\n",
      "  output, from_logits = _get_logits(\n"
     ]
    },
    {
     "name": "stdout",
     "output_type": "stream",
     "text": [
      "confusion_matrix_train\n",
      "[[2030  196]\n",
      " [2492  369]]\n",
      "confusion_matrix_dev\n",
      "[[254   0]\n",
      " [316   0]]\n",
      "------------\n",
      "------------\n",
      "Training with 3 hidden layers and 32 neurons per layer...\n"
     ]
    },
    {
     "name": "stderr",
     "output_type": "stream",
     "text": [
      "/home/gaia/third_semester/COMP-ASTRO/compastro/lib/python3.10/site-packages/keras/src/backend/tensorflow/nn.py:707: UserWarning: \"`binary_crossentropy` received `from_logits=True`, but the `output` argument was produced by a Sigmoid activation and thus does not represent logits. Was this intended?\n",
      "  output, from_logits = _get_logits(\n"
     ]
    },
    {
     "name": "stdout",
     "output_type": "stream",
     "text": [
      "confusion_matrix_train\n",
      "[[1988  238]\n",
      " [2410  451]]\n",
      "confusion_matrix_dev\n",
      "[[223  31]\n",
      " [277  39]]\n",
      "------------\n",
      "------------\n",
      "Training with 3 hidden layers and 64 neurons per layer...\n"
     ]
    },
    {
     "name": "stderr",
     "output_type": "stream",
     "text": [
      "/home/gaia/third_semester/COMP-ASTRO/compastro/lib/python3.10/site-packages/keras/src/backend/tensorflow/nn.py:707: UserWarning: \"`binary_crossentropy` received `from_logits=True`, but the `output` argument was produced by a Sigmoid activation and thus does not represent logits. Was this intended?\n",
      "  output, from_logits = _get_logits(\n"
     ]
    },
    {
     "name": "stdout",
     "output_type": "stream",
     "text": [
      "confusion_matrix_train\n",
      "[[1990  236]\n",
      " [2478  383]]\n",
      "confusion_matrix_dev\n",
      "[[208  46]\n",
      " [262  54]]\n",
      "------------\n",
      "------------\n"
     ]
    }
   ],
   "source": [
    "for combo in combinations:\n",
    "    model = build_network(X_train.shape[1:], n_layers=combo[0], n_neurons=combo[1])\n",
    "\n",
    "    sm = SMOTE()\n",
    "    X_train_sm, Y_train_sm = sm.fit_resample(X_train, Y_train)\n",
    "\n",
    "    # Training the NN \n",
    "    print(f\"Training with {combo[0]} hidden layers and {combo[1]} neurons per layer...\")\n",
    "\n",
    "    history = model.fit(X_train_sm, Y_train_sm, epochs=50, batch_size=32, verbose=0)\n",
    "\n",
    "    train_outputs = model.predict(X_train, batch_size=32, verbose=0) \n",
    "    dev_outputs = model.predict(X_dev, batch_size=32, verbose=0) \n",
    "    train_outputs = np.rint(train_outputs)\n",
    "    dev_outputs = np.rint(dev_outputs)\n",
    "\n",
    "    confusion_matrix_train = confusion_matrix(Y_train, train_outputs)\n",
    "    confusion_matrix_dev = confusion_matrix(Y_dev, dev_outputs)\n",
    "\n",
    "    print(\"confusion_matrix_train\")\n",
    "    print(confusion_matrix_train)\n",
    "    print(\"confusion_matrix_dev\")\n",
    "    print(confusion_matrix_dev)\n",
    "\n",
    "    print(\"------------\")\n",
    "    print(\"------------\")"
   ]
  }
 ],
 "metadata": {
  "kernelspec": {
   "display_name": "compastro",
   "language": "python",
   "name": "python3"
  },
  "language_info": {
   "codemirror_mode": {
    "name": "ipython",
    "version": 3
   },
   "file_extension": ".py",
   "mimetype": "text/x-python",
   "name": "python",
   "nbconvert_exporter": "python",
   "pygments_lexer": "ipython3",
   "version": "3.10.12"
  }
 },
 "nbformat": 4,
 "nbformat_minor": 2
}
