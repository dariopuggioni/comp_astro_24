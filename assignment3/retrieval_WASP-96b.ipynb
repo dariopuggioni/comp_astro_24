{
 "cells": [
  {
   "cell_type": "code",
   "execution_count": 1,
   "metadata": {},
   "outputs": [],
   "source": [
    "import matplotlib.pyplot as plt\n",
    "#%matplotlib widget\n",
    "from ipywidgets import *\n",
    "import numpy as np\n",
    "import sys"
   ]
  },
  {
   "cell_type": "code",
   "execution_count": 2,
   "metadata": {},
   "outputs": [],
   "source": [
    "import taurex.log\n",
    "taurex.log.disableLogging()\n",
    "from taurex.cache import OpacityCache,CIACache\n"
   ]
  },
  {
   "cell_type": "code",
   "execution_count": 3,
   "metadata": {},
   "outputs": [],
   "source": [
    "path_to_data = '/home/ubuntu'\n",
    "OpacityCache().clear_cache()\n",
    "OpacityCache().set_opacity_path(f\"{path_to_data}/atmosphere/xsecs\")\n",
    "CIACache().set_cia_path(f\"{path_to_data}/atmosphere/cia/hitran\")"
   ]
  },
  {
   "cell_type": "markdown",
   "metadata": {},
   "source": [
    "# Creating planet to retrieve"
   ]
  },
  {
   "cell_type": "code",
   "execution_count": 4,
   "metadata": {},
   "outputs": [
    {
     "name": "stdout",
     "output_type": "stream",
     "text": [
      "Numba not installed, using numpy instead\n"
     ]
    },
    {
     "data": {
      "text/plain": [
       "<taurex.data.profiles.chemistry.taurexchemistry.TaurexChemistry at 0x7f95bf87a290>"
      ]
     },
     "execution_count": 4,
     "metadata": {},
     "output_type": "execute_result"
    }
   ],
   "source": [
    "from taurex.temperature import Guillot2010\n",
    "guillot = Guillot2010(T_irr=1415.0)\n",
    "\n",
    "from taurex.planet import Planet\n",
    "planet = Planet(planet_radius=1.0,planet_mass=0.8)\n",
    "\n",
    "from taurex.stellar import BlackbodyStar\n",
    "\n",
    "star = BlackbodyStar(temperature=5500,radius=1.05, metallicity=0.14)\n",
    "\n",
    "from taurex.chemistry import TaurexChemistry\n",
    "chemistry = TaurexChemistry(fill_gases=['H2','He'],ratio=0.17)\n",
    "\n",
    "from taurex.chemistry import ConstantGas\n",
    "\n",
    "chemistry.addGas(ConstantGas('H2O',mix_ratio=1e-8))\n",
    "chemistry.addGas(ConstantGas('CO2',mix_ratio=1e-8))\n",
    "chemistry.addGas(ConstantGas('CO',mix_ratio=1e-8))\n",
    "chemistry.addGas(ConstantGas('Na',mix_ratio=1e-8))\n",
    "chemistry.addGas(ConstantGas('K',mix_ratio=1e-8))"
   ]
  },
  {
   "cell_type": "code",
   "execution_count": 5,
   "metadata": {},
   "outputs": [],
   "source": [
    "from taurex.model import TransmissionModel\n",
    "tm = TransmissionModel(planet=planet,\n",
    "                       temperature_profile=guillot,\n",
    "                       chemistry=chemistry,\n",
    "                       star=star,\n",
    "                        atm_min_pressure=1e-0,\n",
    "                       atm_max_pressure=1e6,\n",
    "                       nlayers=30)\n",
    "\n",
    "from taurex.contributions import AbsorptionContribution\n",
    "tm.add_contribution(AbsorptionContribution())\n",
    "\n",
    "from taurex.contributions import CIAContribution\n",
    "tm.add_contribution(CIAContribution(cia_pairs=['H2-H2','H2-He']))\n",
    "\n",
    "from taurex.contributions import RayleighContribution\n",
    "tm.add_contribution(RayleighContribution())\n",
    "\n",
    "tm.build()\n",
    "res = tm.model()"
   ]
  },
  {
   "cell_type": "code",
   "execution_count": 6,
   "metadata": {},
   "outputs": [],
   "source": [
    "# we take the data of our simulated spectrum taking as error the square root of (Rp/Rs)^2 (Poisson error)\n",
    "from taurex.data.spectrum.observed import ObservedSpectrum\n",
    "obs = ObservedSpectrum(f'WASP-96b_pruned_spectrum.dat')"
   ]
  },
  {
   "cell_type": "code",
   "execution_count": 7,
   "metadata": {},
   "outputs": [
    {
     "data": {
      "image/png": "[encoded data removed]",
      "text/plain": [
       "<Figure size 640x480 with 1 Axes>"
      ]
     },
     "metadata": {},
     "output_type": "display_data"
    }
   ],
   "source": [
    "# now we make a binning and plot the spectrum:\n",
    "obin = obs.create_binner()\n",
    "plt.figure()\n",
    "plt.errorbar(obs.wavelengthGrid,obs.spectrum, obs.errorBar,label='Observed')\n",
    "plt.plot(obs.wavelengthGrid,obin.bin_model(tm.model(obs.wavenumberGrid))[1],label='Initial Model')\n",
    "plt.xscale('log')\n",
    "plt.legend()\n",
    "plt.show()"
   ]
  },
  {
   "cell_type": "code",
   "execution_count": 8,
   "metadata": {},
   "outputs": [],
   "source": [
    "from taurex.optimizer.nestle import NestleOptimizer\n",
    "opt = NestleOptimizer(num_live_points=50)\n",
    "\n",
    "opt.set_model(tm)\n",
    "opt.set_observed(obs)"
   ]
  },
  {
   "cell_type": "code",
   "execution_count": 9,
   "metadata": {},
   "outputs": [],
   "source": [
    "opt.enable_fit('planet_radius')\n",
    "opt.enable_fit('T_irr')\n",
    "opt.enable_fit('H2O')\n",
    "opt.enable_fit('CO2')\n",
    "opt.enable_fit('CO')\n",
    "opt.enable_fit('K')\n",
    "opt.enable_fit('Na')\n",
    "opt.set_boundary('T_irr',[1000,2000])\n",
    "opt.set_boundary('planet_radius',[0.8,2.1])\n",
    "opt.set_boundary('H2O', [1e-10,1e-2])\n",
    "opt.set_boundary('CO', [1e-10,1e-2])\n",
    "opt.set_boundary('CO2', [1e-10,1e-2])\n",
    "opt.set_boundary('Na', [1e-10,1e-2])\n",
    "opt.set_boundary('K', [1e-10,1e-2])"
   ]
  },
  {
   "cell_type": "code",
   "execution_count": 10,
   "metadata": {},
   "outputs": [
    {
     "name": "stdout",
     "output_type": "stream",
     "text": [
      "\u001b[Kit=    47 logz=-196362.781028"
     ]
    },
    {
     "ename": "RuntimeError",
     "evalue": "Negative h encountered (h=-1.2285949196666479e-05). Please report this as a likely bug.",
     "output_type": "error",
     "traceback": [
      "\u001b[0;31m---------------------------------------------------------------------------\u001b[0m",
      "\u001b[0;31mRuntimeError\u001b[0m                              Traceback (most recent call last)",
      "Cell \u001b[0;32mIn[10], line 1\u001b[0m\n\u001b[0;32m----> 1\u001b[0m solution \u001b[38;5;241m=\u001b[39m \u001b[43mopt\u001b[49m\u001b[38;5;241;43m.\u001b[39;49m\u001b[43mfit\u001b[49m\u001b[43m(\u001b[49m\u001b[43m)\u001b[49m\n\u001b[1;32m      2\u001b[0m taurex\u001b[38;5;241m.\u001b[39mlog\u001b[38;5;241m.\u001b[39mdisableLogging()\n",
      "File \u001b[0;32m~/.local/lib/python3.10/site-packages/taurex/optimizer/optimizer.py:534\u001b[0m, in \u001b[0;36mOptimizer.fit\u001b[0;34m(self, output_size)\u001b[0m\n\u001b[1;32m    532\u001b[0m disableLogging()\n\u001b[1;32m    533\u001b[0m \u001b[38;5;66;03m# Compute fit here\u001b[39;00m\n\u001b[0;32m--> 534\u001b[0m \u001b[38;5;28;43mself\u001b[39;49m\u001b[38;5;241;43m.\u001b[39;49m\u001b[43mcompute_fit\u001b[49m\u001b[43m(\u001b[49m\u001b[43m)\u001b[49m\n\u001b[1;32m    536\u001b[0m enableLogging()\n\u001b[1;32m    537\u001b[0m end_time \u001b[38;5;241m=\u001b[39m time\u001b[38;5;241m.\u001b[39mtime()\n",
      "File \u001b[0;32m~/.local/lib/python3.10/site-packages/taurex/optimizer/nestle.py:119\u001b[0m, in \u001b[0;36mNestleOptimizer.compute_fit\u001b[0;34m(self)\u001b[0m\n\u001b[1;32m    115\u001b[0m ndims \u001b[38;5;241m=\u001b[39m ndim  \u001b[38;5;66;03m# two parameters\u001b[39;00m\n\u001b[1;32m    117\u001b[0m t0 \u001b[38;5;241m=\u001b[39m time\u001b[38;5;241m.\u001b[39mtime()\n\u001b[0;32m--> 119\u001b[0m res \u001b[38;5;241m=\u001b[39m \u001b[43mnestle\u001b[49m\u001b[38;5;241;43m.\u001b[39;49m\u001b[43msample\u001b[49m\u001b[43m(\u001b[49m\n\u001b[1;32m    120\u001b[0m \u001b[43m    \u001b[49m\u001b[38;5;28;43mself\u001b[39;49m\u001b[38;5;241;43m.\u001b[39;49m\u001b[43mlog_likelihood\u001b[49m\u001b[43m,\u001b[49m\n\u001b[1;32m    121\u001b[0m \u001b[43m    \u001b[49m\u001b[43mnestle_uniform_prior\u001b[49m\u001b[43m,\u001b[49m\n\u001b[1;32m    122\u001b[0m \u001b[43m    \u001b[49m\u001b[43mndims\u001b[49m\u001b[43m,\u001b[49m\n\u001b[1;32m    123\u001b[0m \u001b[43m    \u001b[49m\u001b[43mmethod\u001b[49m\u001b[38;5;241;43m=\u001b[39;49m\u001b[38;5;124;43m\"\u001b[39;49m\u001b[38;5;124;43mmulti\u001b[39;49m\u001b[38;5;124;43m\"\u001b[39;49m\u001b[43m,\u001b[49m\n\u001b[1;32m    124\u001b[0m \u001b[43m    \u001b[49m\u001b[43mnpoints\u001b[49m\u001b[38;5;241;43m=\u001b[39;49m\u001b[38;5;28;43mself\u001b[39;49m\u001b[38;5;241;43m.\u001b[39;49m\u001b[43mnumLivePoints\u001b[49m\u001b[43m,\u001b[49m\n\u001b[1;32m    125\u001b[0m \u001b[43m    \u001b[49m\u001b[43mdlogz\u001b[49m\u001b[38;5;241;43m=\u001b[39;49m\u001b[38;5;28;43mself\u001b[39;49m\u001b[38;5;241;43m.\u001b[39;49m\u001b[43mtolerance\u001b[49m\u001b[43m,\u001b[49m\n\u001b[1;32m    126\u001b[0m \u001b[43m    \u001b[49m\u001b[43mcallback\u001b[49m\u001b[38;5;241;43m=\u001b[39;49m\u001b[43mnestle\u001b[49m\u001b[38;5;241;43m.\u001b[39;49m\u001b[43mprint_progress\u001b[49m\u001b[43m,\u001b[49m\n\u001b[1;32m    127\u001b[0m \u001b[43m\u001b[49m\u001b[43m)\u001b[49m\n\u001b[1;32m    129\u001b[0m res \u001b[38;5;241m=\u001b[39m t\u001b[38;5;241m.\u001b[39mcast(nestle\u001b[38;5;241m.\u001b[39mResult, res)\n\u001b[1;32m    130\u001b[0m t1 \u001b[38;5;241m=\u001b[39m time\u001b[38;5;241m.\u001b[39mtime()\n",
      "File \u001b[0;32m~/.local/lib/python3.10/site-packages/nestle.py:985\u001b[0m, in \u001b[0;36msample\u001b[0;34m(loglikelihood, prior_transform, ndim, npoints, method, update_interval, npdim, maxiter, maxcall, dlogz, decline_factor, rstate, callback, **options)\u001b[0m\n\u001b[1;32m    983\u001b[0m         h \u001b[38;5;241m=\u001b[39m \u001b[38;5;241m0.0\u001b[39m\n\u001b[1;32m    984\u001b[0m     \u001b[38;5;28;01melse\u001b[39;00m:\n\u001b[0;32m--> 985\u001b[0m         \u001b[38;5;28;01mraise\u001b[39;00m \u001b[38;5;167;01mRuntimeError\u001b[39;00m(\u001b[38;5;124m\"\u001b[39m\u001b[38;5;124mNegative h encountered (h=\u001b[39m\u001b[38;5;132;01m{}\u001b[39;00m\u001b[38;5;124m). Please report \u001b[39m\u001b[38;5;124m\"\u001b[39m\n\u001b[1;32m    986\u001b[0m                            \u001b[38;5;124m\"\u001b[39m\u001b[38;5;124mthis as a likely bug.\u001b[39m\u001b[38;5;124m\"\u001b[39m\u001b[38;5;241m.\u001b[39mformat(h))\n\u001b[1;32m    988\u001b[0m \u001b[38;5;28;01mreturn\u001b[39;00m Result([\n\u001b[1;32m    989\u001b[0m     (\u001b[38;5;124m'\u001b[39m\u001b[38;5;124mniter\u001b[39m\u001b[38;5;124m'\u001b[39m, it \u001b[38;5;241m+\u001b[39m \u001b[38;5;241m1\u001b[39m),\n\u001b[1;32m    990\u001b[0m     (\u001b[38;5;124m'\u001b[39m\u001b[38;5;124mncall\u001b[39m\u001b[38;5;124m'\u001b[39m, ncall),\n\u001b[0;32m   (...)\u001b[0m\n\u001b[1;32m    997\u001b[0m     (\u001b[38;5;124m'\u001b[39m\u001b[38;5;124mlogl\u001b[39m\u001b[38;5;124m'\u001b[39m, np\u001b[38;5;241m.\u001b[39marray(saved_logl))\n\u001b[1;32m    998\u001b[0m     ])\n",
      "\u001b[0;31mRuntimeError\u001b[0m: Negative h encountered (h=-1.2285949196666479e-05). Please report this as a likely bug."
     ]
    }
   ],
   "source": [
    "solution = opt.fit()\n",
    "taurex.log.disableLogging()"
   ]
  },
  {
   "cell_type": "code",
   "execution_count": null,
   "metadata": {},
   "outputs": [],
   "source": [
    "for solution,optimized_map,optimized_value,values in opt.get_solution():\n",
    "    opt.update_model(optimized_map)\n",
    "    plt.figure()\n",
    "    plt.errorbar(obs.wavelengthGrid,obs.spectrum,obs.errorBar,label='Observed', alpha=0.4)\n",
    "    plt.plot(obs.wavelengthGrid,obs.spectrum, marker='s', color='blue', markersize=2)\n",
    "    plt.plot(obs.wavelengthGrid,obin.bin_model(tm.model(obs.wavenumberGrid))[1],label='Fitted Model')\n",
    "    plt.xscale('log')\n",
    "    plt.legend()\n",
    "    plt.show()"
   ]
  },
  {
   "cell_type": "code",
   "execution_count": null,
   "metadata": {},
   "outputs": [],
   "source": [
    "res = opt.generate_solution()"
   ]
  },
  {
   "cell_type": "code",
   "execution_count": null,
   "metadata": {},
   "outputs": [],
   "source": [
    "import pandas as pd\n",
    "import corner"
   ]
  },
  {
   "cell_type": "code",
   "execution_count": null,
   "metadata": {},
   "outputs": [],
   "source": [
    "fit_params = res['solution0']['fit_params']\n",
    "\n",
    "traces = np.array([fit_params[key]['trace'] for key in fit_params.keys()])\n"
   ]
  },
  {
   "cell_type": "code",
   "execution_count": null,
   "metadata": {},
   "outputs": [],
   "source": [
    "params = [[key,fit_params[key]['value'], fit_params[key]['sigma_m'], fit_params[key]['sigma_p']] for key in fit_params.keys()]\n"
   ]
  },
  {
   "cell_type": "code",
   "execution_count": null,
   "metadata": {},
   "outputs": [],
   "source": [
    "corner.corner(np.transpose(traces))"
   ]
  }
 ],
 "metadata": {
  "kernelspec": {
   "display_name": "Python 3",
   "language": "python",
   "name": "python3"
  },
  "language_info": {
   "codemirror_mode": {
    "name": "ipython",
    "version": 3
   },
   "file_extension": ".py",
   "mimetype": "text/x-python",
   "name": "python",
   "nbconvert_exporter": "python",
   "pygments_lexer": "ipython3",
   "version": "3.10.12"
  }
 },
 "nbformat": 4,
 "nbformat_minor": 2
}
